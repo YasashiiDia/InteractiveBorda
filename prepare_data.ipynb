{
 "cells": [
  {
   "cell_type": "code",
   "execution_count": 6,
   "outputs": [],
   "source": [
    "import glob\n",
    "import pandas as pd\n",
    "import utility as ut"
   ],
   "metadata": {
    "collapsed": false,
    "pycharm": {
     "name": "#%%\n"
    }
   }
  },
  {
   "cell_type": "code",
   "execution_count": 10,
   "outputs": [],
   "source": [
    "vm = f\"./data/*_vote_matrix.csv\"\n",
    "for filename in glob.glob(vm):\n",
    "    dataname = filename.split(\"_vote_matrix.csv\")[0].split(\"/\")[-1]\n",
    "    vote_matrix = pd.read_csv(filename,index_col=[0,1])\n",
    "    ranked_vote_matrix = ut.get_ranked_vote_matrix(vote_matrix)\n",
    "    outname = f\"./data/{dataname}_ranked_vote_matrix.csv\"\n",
    "    ranked_vote_matrix.to_csv(outname)"
   ],
   "metadata": {
    "collapsed": false,
    "pycharm": {
     "name": "#%%\n"
    }
   }
  }
 ],
 "metadata": {
  "kernelspec": {
   "display_name": "Python 3",
   "language": "python",
   "name": "python3"
  },
  "language_info": {
   "codemirror_mode": {
    "name": "ipython",
    "version": 2
   },
   "file_extension": ".py",
   "mimetype": "text/x-python",
   "name": "python",
   "nbconvert_exporter": "python",
   "pygments_lexer": "ipython2",
   "version": "2.7.6"
  }
 },
 "nbformat": 4,
 "nbformat_minor": 0
}