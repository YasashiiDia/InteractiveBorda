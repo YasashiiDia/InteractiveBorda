{
 "cells": [
  {
   "cell_type": "code",
   "execution_count": 1,
   "outputs": [],
   "source": [
    "import glob\n",
    "import pandas as pd\n",
    "import utility as ut"
   ],
   "metadata": {
    "collapsed": false,
    "pycharm": {
     "name": "#%%\n"
    }
   }
  },
  {
   "cell_type": "code",
   "execution_count": 4,
   "outputs": [],
   "source": [
    "vm = f\"./data/*_vote_matrix.csv\"\n",
    "for filename in glob.glob(vm):\n",
    "    if \"ranked_vote_matrix\" in filename: continue\n",
    "    dataname = filename.split(\"_vote_matrix.csv\")[0].split(\"/\")[-1]\n",
    "    vote_matrix = pd.read_csv(filename,index_col=[0,1])\n",
    "    ranked_vote_matrix = ut.get_ranked_vote_matrix(vote_matrix)\n",
    "    outname = f\"./data/{dataname}_ranked_vote_matrix.csv\"\n",
    "    ranked_vote_matrix.to_csv(outname)"
   ],
   "metadata": {
    "collapsed": false,
    "pycharm": {
     "name": "#%%\n"
    }
   }
  },
  {
   "cell_type": "markdown",
   "source": [
    " Combined film normalization factors"
   ],
   "metadata": {
    "collapsed": false,
    "pycharm": {
     "name": "#%% md\n"
    }
   }
  },
  {
   "cell_type": "code",
   "execution_count": 13,
   "outputs": [
    {
     "data": {
      "text/plain": "{'Film (1980s)': 1.0,\n 'Film (1990s)': 1.0480769230769231,\n 'Film (2000s)': 1.379746835443038,\n 'Film (2010s)': 2.2244897959183674}"
     },
     "execution_count": 13,
     "metadata": {},
     "output_type": "execute_result"
    }
   ],
   "source": [
    "from utility import get_norm_factor_dict\n",
    "from main import FILM_DECADE_POLLS\n",
    "from CompiledCharts import CompiledCharts\n",
    "from options import options_dict_all\n",
    "\n",
    "cc_dict = {}\n",
    "for decade in FILM_DECADE_POLLS:\n",
    "    options = options_dict_all[decade]\n",
    "    vote_matrix = pd.read_csv(options[\"vote_matrix_csv\"],index_col=[0,1])\n",
    "    meta_df = pd.read_csv(options[\"titles_csv\"], index_col=[0,1])\n",
    "    cc_dict[decade] = CompiledCharts(vote_matrix, meta_df)\n",
    "\n",
    "norm_factors = get_norm_factor_dict(cc_dict)\n",
    "norm_factors"
   ],
   "metadata": {
    "collapsed": false,
    "pycharm": {
     "name": "#%%\n"
    }
   }
  },
  {
   "cell_type": "code",
   "execution_count": 12,
   "outputs": [],
   "source": [
    "options = options_dict_all[\"Film (Combined)\"]\n",
    "vote_matrix = pd.read_csv(options[\"vote_matrix_csv\"],index_col=[0,1])\n",
    "vote_matrix = vote_matrix[vote_matrix.columns.sort_values(key=lambda col: col.str.lower())]\n",
    "vote_matrix.to_csv(f\"./data/combined_film_ranked_vote_matrix.csv\")"
   ],
   "metadata": {
    "collapsed": false,
    "pycharm": {
     "name": "#%%\n"
    }
   }
  }
 ],
 "metadata": {
  "kernelspec": {
   "display_name": "Python 3",
   "language": "python",
   "name": "python3"
  },
  "language_info": {
   "codemirror_mode": {
    "name": "ipython",
    "version": 2
   },
   "file_extension": ".py",
   "mimetype": "text/x-python",
   "name": "python",
   "nbconvert_exporter": "python",
   "pygments_lexer": "ipython2",
   "version": "2.7.6"
  }
 },
 "nbformat": 4,
 "nbformat_minor": 0
}