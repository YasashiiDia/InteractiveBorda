{
  "nbformat": 4,
  "nbformat_minor": 0,
  "metadata": {
    "colab": {
      "name": "books_compiler.ipynb",
      "provenance": [],
      "authorship_tag": "ABX9TyO16j/YL0mEqnNhLAGS2Itr",
      "include_colab_link": true
    },
    "kernelspec": {
      "name": "python3",
      "display_name": "Python 3"
    },
    "language_info": {
      "name": "python"
    }
  },
  "cells": [
    {
      "cell_type": "markdown",
      "metadata": {
        "id": "view-in-github",
        "colab_type": "text"
      },
      "source": [
        "<a href=\"https://colab.research.google.com/github/YasashiiDia/InteractiveBorda/blob/main/books_compiler.ipynb\" target=\"_parent\"><img src=\"https://colab.research.google.com/assets/colab-badge.svg\" alt=\"Open In Colab\"/></a>"
      ]
    },
    {
      "cell_type": "code",
      "source": [
        "#@markdown Imports\n",
        "\n",
        "import math\n",
        "import numpy as np\n",
        "import pandas as pd\n",
        "import requests\n",
        "import json\n",
        "import seaborn as sns; sns.set()\n",
        "import ipywidgets as widgets\n",
        "from IPython.display import HTML\n",
        "import gspread\n",
        "from gspread_dataframe import set_with_dataframe\n",
        "import matplotlib.pyplot as plt\n",
        "from collections import Counter\n",
        "\n",
        "from google.colab import auth\n",
        "auth.authenticate_user()\n",
        "\n",
        "import gspread\n",
        "from google.auth import default\n",
        "creds, _ = default()\n",
        "\n",
        "gc = gspread.authorize(creds)\n",
        "\n",
        "from google.colab import drive\n",
        "drive.mount('/content/drive')\n",
        "\n",
        "!pip install unidecode\n",
        "import unidecode"
      ],
      "metadata": {
        "id": "6YU2kyq74dN_"
      },
      "execution_count": null,
      "outputs": []
    },
    {
      "cell_type": "code",
      "source": [
        "from urllib.request import urlopen\n",
        "\n",
        "with open(\"/content/drive/MyDrive/google_books_api_key.txt\", \"r\") as f:\n",
        "  key = f.read()\n",
        "\n",
        "def query_books_api(author, title):\n",
        "  \n",
        "  api = f\"https://www.googleapis.com/books/v1/volumes?q={title}+inauthor:{author}&key={key}\"\n",
        "  api = api.replace(\" \", \"+\")\n",
        "\n",
        "  # send a request and get a JSON response\n",
        "  resp = urlopen(api)\n",
        "  # parse JSON into Python as a dictionary\n",
        "  book_data = json.load(resp)\n",
        "\n",
        "  # create additional variables for easy querying\n",
        "  volume_info = book_data[\"items\"][0][\"volumeInfo\"]\n",
        "  author = volume_info[\"authors\"]\n",
        "  # practice with conditional expressions!\n",
        "  prettify_author = author if len(author) > 1 else author[0]\n",
        "\n",
        "  # find ISBN13, if not available, use first ID type\n",
        "  IDs = volume_info['industryIdentifiers']#[0]['identifier']\n",
        "  for ID in IDs:\n",
        "    if ID[\"type\"] == \"ISBN_13\":\n",
        "      ID = ID[\"identifier\"]\n",
        "      break\n",
        "  else:\n",
        "    ID = volume_info['industryIdentifiers'][0]['identifier']\n",
        "\n",
        "  # print(f\"\\nTitle: {volume_info['title']}\")\n",
        "  # print(f\"Author: {prettify_author}\")\n",
        "  # print(f\"Page Count: {volume_info['pageCount']}\")\n",
        "  # print(f\"Publication Date: {volume_info['publishedDate']}\")\n",
        "  # print(f\"ID: {ID}\")\n",
        "  return ID, volume_info['title'], prettify_author"
      ],
      "metadata": {
        "id": "iuH3rzo3MnKX"
      },
      "execution_count": 182,
      "outputs": []
    },
    {
      "cell_type": "code",
      "source": [
        "SHEETNAME = \"books_sheet\"\n",
        "MAX_VOTES = 50\n",
        "votesheet = gc.open(SHEETNAME).worksheet('Votes')\n",
        "idvotesheet = gc.open(SHEETNAME).worksheet('ID_Votes')"
      ],
      "metadata": {
        "id": "DAJKWSLo4yF9"
      },
      "execution_count": 164,
      "outputs": []
    },
    {
      "cell_type": "code",
      "source": [
        "votes = np.array(votesheet.get_all_values())\n",
        "votes_df = pd.DataFrame(columns=votes[0], index=range(MAX_VOTES))\n",
        "votes_df.iloc[:votes[1:,:].shape[0], :votes[1:,:].shape[1]] = votes[1:,:]\n",
        "votes_df.head()"
      ],
      "metadata": {
        "id": "rgqFTWGZ46Ca"
      },
      "execution_count": null,
      "outputs": []
    },
    {
      "cell_type": "code",
      "source": [
        "idvotes = np.array(idvotesheet.get_all_values())\n",
        "idvotes_df = pd.DataFrame(columns=idvotes[0], index=range(MAX_VOTES))\n",
        "idvotes_df.iloc[:idvotes[1:,:].shape[0], :idvotes[1:,:].shape[1]] = idvotes[1:,:]\n",
        "idvotes_df.head()"
      ],
      "metadata": {
        "id": "kQ22czmm5gLB"
      },
      "execution_count": null,
      "outputs": []
    },
    {
      "cell_type": "code",
      "source": [
        "voters_to_update = []\n",
        "update_all_votes = False # if false, update only newly appended votes if some converted votes already exist\n",
        "force_update_all = False\n",
        "\n",
        "for voter in votes_df:\n",
        "\n",
        "  if voter not in idvotes_df.columns or voter in voters_to_update or (len(votes_df[voter].dropna()) != len(idvotes_df[voter].dropna())) or force_update_all:\n",
        "\n",
        "    is_ranked = votes_df[voter].iloc[0].startswith(\"1. \") or votes_df[voter].iloc[0].startswith(\"01. \")\n",
        "\n",
        "    try: startvote = len(idvotes_df[voter].dropna()) if not update_all_votes else 0\n",
        "    except KeyError: startvote = 0\n",
        "\n",
        "    ranks, converted_votes = [], []\n",
        "    for rankvote in votes_df[voter].iloc[startvote:]:\n",
        "      if rankvote in [\"\", np.nan]: break\n",
        "      if is_ranked: rank, vote = rankvote.split(\". \", maxsplit=1)\n",
        "      else: rank, vote = \"\", rankvote\n",
        "      title, author = vote.split(\" - \", maxsplit=1)\n",
        "      author, title = unidecode.unidecode(author), unidecode.unidecode(title)\n",
        "      ID, t, a = query_books_api(author, title)\n",
        "      ranks.append(rank)\n",
        "      converted_votes.append(ID)\n",
        "      print(rank, title, author, ID, t, a)\n",
        "      print(\"\\n\")\n",
        "\n",
        "    tmp = (idvotes_df[voter].iloc[:startvote].to_list() \n",
        "    + [f\"{ranks[i]}. {converted_votes[i]}\" if is_ranked else f\"{converted_votes[i]}\" for i in range(len(ranks))])\n",
        "    idvotes_df[voter] = pd.Series(tmp)"
      ],
      "metadata": {
        "id": "2IdP58vg5yv1"
      },
      "execution_count": 178,
      "outputs": []
    },
    {
      "cell_type": "code",
      "source": [
        "display(idvotes_df.head(10))\n",
        "set_with_dataframe(idvotesheet, idvotes_df, include_index=False)"
      ],
      "metadata": {
        "id": "Mh4r-GlP_Fo1"
      },
      "execution_count": null,
      "outputs": []
    }
  ]
}